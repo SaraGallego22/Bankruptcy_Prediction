{
  "cells": [
    {
      "cell_type": "markdown",
      "metadata": {
        "id": "view-in-github",
        "colab_type": "text"
      },
      "source": [
        "<a href=\"https://colab.research.google.com/github/SaraGallego22/Bankruptcy_Prediction/blob/main/Copia_de_Clsificaci%C3%B3n_Optimizacion2.ipynb\" target=\"_parent\"><img src=\"https://colab.research.google.com/assets/colab-badge.svg\" alt=\"Open In Colab\"/></a>"
      ]
    },
    {
      "cell_type": "markdown",
      "source": [
        "Importamos dependencias."
      ],
      "metadata": {
        "id": "j8hcS3X3aqNm"
      }
    },
    {
      "cell_type": "code",
      "execution_count": null,
      "metadata": {
        "id": "8OcfCvw1PoIO"
      },
      "outputs": [],
      "source": [
        "import os\n",
        "import pandas as pd\n",
        "import numpy as np\n",
        "import matplotlib.pyplot as plt\n",
        "from matplotlib.image import imread\n",
        "import seaborn as sns\n",
        "import random\n",
        "from PIL import Image\n",
        "from sklearn.model_selection import  train_test_split\n",
        "from tensorflow.keras.utils import to_categorical\n",
        "import tensorflow as tf\n",
        "from tensorflow.keras.models import Sequential\n",
        "from tensorflow.keras.layers import Dense, Flatten, Dropout, Conv2D, MaxPool2D"
      ]
    },
    {
      "cell_type": "markdown",
      "source": [
        "Descompresión de carpertas."
      ],
      "metadata": {
        "id": "n02Mk6r2lEm_"
      }
    },
    {
      "cell_type": "code",
      "execution_count": null,
      "metadata": {
        "id": "UeCyKv2GOyT5"
      },
      "outputs": [],
      "source": [
        "!unzip enfermedades_plantas.zip"
      ]
    },
    {
      "cell_type": "markdown",
      "source": [
        "Creación de carpetas."
      ],
      "metadata": {
        "id": "zQqwpoxMl2BT"
      }
    },
    {
      "cell_type": "code",
      "execution_count": null,
      "metadata": {
        "id": "CHvY3r8lO_fc"
      },
      "outputs": [],
      "source": [
        "!mkdir plantas"
      ]
    },
    {
      "cell_type": "markdown",
      "source": [
        "Se agregan las imágenes."
      ],
      "metadata": {
        "id": "fIWvBan6l9SG"
      }
    },
    {
      "cell_type": "code",
      "execution_count": null,
      "metadata": {
        "id": "icpVdwYsPS-d"
      },
      "outputs": [],
      "source": [
        "!mv ./Tomato___Early_blight/ ./plantas\n",
        "\n"
      ]
    },
    {
      "cell_type": "code",
      "execution_count": null,
      "metadata": {
        "id": "_wAke1QfPh2D"
      },
      "outputs": [],
      "source": [
        "!mv ./Tomato___healthy/ ./plantas"
      ]
    },
    {
      "cell_type": "code",
      "execution_count": null,
      "metadata": {
        "id": "FujGYNNGQiuB"
      },
      "outputs": [],
      "source": [
        "import pathlib\n",
        "data_dir = pathlib.Path('./plantas')"
      ]
    },
    {
      "cell_type": "code",
      "execution_count": null,
      "metadata": {
        "id": "Tj-BzmeVR2wl"
      },
      "outputs": [],
      "source": [
        "dim1 = []\n",
        "dim2 = []\n",
        "\n",
        "for i in range(0,43):\n",
        "    labels = str(data_dir) + '/Tomato___healthy'.format(i)\n",
        "    image_path = os.listdir(labels)\n",
        "    for x in image_path:\n",
        "        img = imread(labels + '/' + x)\n",
        "        dim1.append(img.shape[0])\n",
        "        dim2.append(img.shape[1])"
      ]
    },
    {
      "cell_type": "code",
      "execution_count": null,
      "metadata": {
        "id": "K6HOM_SpSCAj"
      },
      "outputs": [],
      "source": [
        "print(\"Dimension 1 Mean : \",np.mean(dim1), \" Dimension 2 Mean : \",np.mean(dim2))"
      ]
    },
    {
      "cell_type": "code",
      "source": [
        "print(img)"
      ],
      "metadata": {
        "id": "K8KHx9efQujq"
      },
      "execution_count": null,
      "outputs": []
    },
    {
      "cell_type": "markdown",
      "source": [
        "Separamos el batch size."
      ],
      "metadata": {
        "id": "68MH9k47mUDc"
      }
    },
    {
      "cell_type": "code",
      "execution_count": null,
      "metadata": {
        "id": "aiUavJQlRVmZ"
      },
      "outputs": [],
      "source": [
        "batch_size = 50\n",
        "img_height = 256\n",
        "img_width = 256"
      ]
    },
    {
      "cell_type": "markdown",
      "source": [
        "Entrenamiento del modelo."
      ],
      "metadata": {
        "id": "-PLO8EuwmMIV"
      }
    },
    {
      "cell_type": "code",
      "execution_count": null,
      "metadata": {
        "id": "tcSA7wh5PlHj"
      },
      "outputs": [],
      "source": [
        "train_ds = tf.keras.utils.image_dataset_from_directory(\n",
        "  data_dir,\n",
        "  validation_split=0.3,\n",
        "  subset=\"training\",\n",
        "  seed=123,\n",
        "  image_size=(img_height, img_width),\n",
        "  batch_size=batch_size)"
      ]
    },
    {
      "cell_type": "markdown",
      "source": [],
      "metadata": {
        "id": "IZSVGCNUmeTn"
      }
    },
    {
      "cell_type": "code",
      "execution_count": null,
      "metadata": {
        "id": "CcuKpq4TVJtg"
      },
      "outputs": [],
      "source": [
        "val_ds = tf.keras.utils.image_dataset_from_directory(\n",
        "  data_dir,\n",
        "  validation_split=0.3,\n",
        "  subset=\"validation\",\n",
        "  seed=123,\n",
        "  image_size=(img_height, img_width),\n",
        "  batch_size=batch_size)"
      ]
    },
    {
      "cell_type": "code",
      "source": [
        "# for element in val_ds:\n",
        "#   print(element)"
      ],
      "metadata": {
        "id": "91WErfqnW0uc"
      },
      "execution_count": null,
      "outputs": []
    },
    {
      "cell_type": "code",
      "source": [
        "verdaderos = np.concatenate([y for x, y in val_ds], axis=0)\n",
        "verdaderos.shape"
      ],
      "metadata": {
        "id": "h8VuhGIvaz0D"
      },
      "execution_count": null,
      "outputs": []
    },
    {
      "cell_type": "markdown",
      "source": [
        "Impresión de clases."
      ],
      "metadata": {
        "id": "XNSvSJKrmk5V"
      }
    },
    {
      "cell_type": "code",
      "execution_count": null,
      "metadata": {
        "id": "TVVq46C4RJRZ"
      },
      "outputs": [],
      "source": [
        "class_names = train_ds.class_names\n",
        "print(class_names)"
      ]
    },
    {
      "cell_type": "markdown",
      "source": [],
      "metadata": {
        "id": "cQkgR8J_muQB"
      }
    },
    {
      "cell_type": "code",
      "execution_count": null,
      "metadata": {
        "id": "iIn0BpIARoFv"
      },
      "outputs": [],
      "source": [
        "plt.figure(figsize=(10, 10))\n",
        "for images, labels in train_ds.take(1):\n",
        "  for i in range(9):\n",
        "    ax = plt.subplot(3, 3, i + 1)\n",
        "    plt.imshow(images[i].numpy().astype(\"uint8\"))\n",
        "    plt.title(class_names[labels[i]])\n",
        "    plt.axis(\"off\")"
      ]
    },
    {
      "cell_type": "code",
      "execution_count": null,
      "metadata": {
        "id": "o7PJCW3yTIdy"
      },
      "outputs": [],
      "source": [
        "from tensorflow import keras\n",
        "from tensorflow.keras import layers\n",
        "from tensorflow.keras.models import Sequential"
      ]
    },
    {
      "cell_type": "markdown",
      "source": [
        "Modelo."
      ],
      "metadata": {
        "id": "E3yVqloJmzOT"
      }
    },
    {
      "cell_type": "code",
      "execution_count": null,
      "metadata": {
        "id": "wDblRiWERt21"
      },
      "outputs": [],
      "source": [
        "num_classes = len(class_names)\n",
        "\n",
        "model = Sequential()\n",
        "\n",
        "model.add(layers.Rescaling(1./255, input_shape=(img_height, img_width, 3)))\n",
        "model.add(layers.Conv2D(8, (3, 3), padding='same', activation='relu'))\n",
        "model.add(layers.MaxPooling2D())\n",
        "model.add(layers.Conv2D(8, 3, padding='same', activation='relu'))\n",
        "model.add(layers.MaxPooling2D())\n",
        "model.add(layers.Conv2D(8, 3, padding='same', activation='relu'))\n",
        "model.add(layers.MaxPooling2D())\n",
        "model.add(layers.Flatten())\n",
        "model.add(layers.Dense(32, activation='sigmoid'))\n",
        "model.add(layers.Dense(num_classes))"
      ]
    },
    {
      "cell_type": "code",
      "execution_count": null,
      "metadata": {
        "id": "UVXdeK13TVZh"
      },
      "outputs": [],
      "source": [
        "model.compile(optimizer='adam',\n",
        "              loss=tf.keras.losses.SparseCategoricalCrossentropy(from_logits=True),\n",
        "              metrics=['accuracy'])"
      ]
    },
    {
      "cell_type": "code",
      "execution_count": null,
      "metadata": {
        "id": "9YhzTVPuT3JY"
      },
      "outputs": [],
      "source": [
        "model.summary()"
      ]
    },
    {
      "cell_type": "markdown",
      "source": [
        "Evaluación del modelo."
      ],
      "metadata": {
        "id": "b0Rw_8Wjm5Mf"
      }
    },
    {
      "cell_type": "code",
      "execution_count": null,
      "metadata": {
        "id": "bKpDGctCT-A9"
      },
      "outputs": [],
      "source": [
        "epochs=50\n",
        "history = model.fit(\n",
        "  train_ds,\n",
        "  validation_data =val_ds,\n",
        "  epochs=epochs\n",
        ")"
      ]
    },
    {
      "cell_type": "markdown",
      "source": [
        "Matriz de confusión"
      ],
      "metadata": {
        "id": "8CvyxL5k9b2x"
      }
    },
    {
      "cell_type": "code",
      "source": [
        "# #y_pred=model.predict(val_ds)\n",
        "# np.where(y_pred > 0.5, 1,0)\n",
        "# y_true=model.predict(train_ds)\n",
        "# np.where(y_true > 0.5, 1,0)"
      ],
      "metadata": {
        "id": "oOvE9NeKB2KG"
      },
      "execution_count": null,
      "outputs": []
    },
    {
      "cell_type": "code",
      "source": [
        "predict_x=model.predict(val_ds)\n",
        "classes_x=np.argmax(predict_x,axis=1)\n",
        "classes_x"
      ],
      "metadata": {
        "id": "HhxhWplnKnfL"
      },
      "execution_count": null,
      "outputs": []
    },
    {
      "cell_type": "code",
      "source": [
        "trues = np.concatenate([y for x, y in val_ds], axis=0)\n",
        "trues"
      ],
      "metadata": {
        "id": "spF4-wRiSfNn"
      },
      "execution_count": null,
      "outputs": []
    },
    {
      "cell_type": "code",
      "execution_count": null,
      "metadata": {
        "id": "f_JyxyopU03G"
      },
      "outputs": [],
      "source": [
        "\n",
        "con_mat = tf.math.confusion_matrix(labels=trues, predictions=classes_x).numpy()\n",
        "\n",
        "con_mat_norm = np.around(con_mat.astype('float') / con_mat.sum(axis=1)[:, np.newaxis], decimals=2)\n",
        "con_mat_df = pd.DataFrame(con_mat_norm,\n",
        "                     index = class_names, \n",
        "                     columns = class_names)\n",
        "\n",
        "figure = plt.figure(figsize=(8, 8))\n",
        "sns.heatmap(con_mat_df, annot=True,cmap=plt.cm.Blues)\n",
        "plt.tight_layout()\n",
        "plt.ylabel('True label')\n",
        "plt.xlabel('Predicted label')\n",
        "plt.show()"
      ]
    },
    {
      "cell_type": "code",
      "source": [
        "print(class_names)"
      ],
      "metadata": {
        "id": "ZeXl_9JZ9t-e"
      },
      "execution_count": null,
      "outputs": []
    },
    {
      "cell_type": "markdown",
      "source": [],
      "metadata": {
        "id": "j-HGckUQ9bRL"
      }
    }
  ],
  "metadata": {
    "colab": {
      "collapsed_sections": [],
      "provenance": [],
      "private_outputs": true,
      "include_colab_link": true
    },
    "kernelspec": {
      "display_name": "Python 3",
      "name": "python3"
    },
    "language_info": {
      "name": "python"
    },
    "accelerator": "GPU",
    "gpuClass": "standard"
  },
  "nbformat": 4,
  "nbformat_minor": 0
}