{
 "cells": [
  {
   "cell_type": "code",
   "execution_count": 3,
   "metadata": {},
   "outputs": [],
   "source": [
    "import pandas as pd\n",
    "import numpy as np\n",
    "from sklearn import preprocessing\n",
    "import matplotlib.pyplot as plt \n",
    "plt.rc(\"font\", size=14)\n",
    "from sklearn.metrics import classification_report, confusion_matrix\n",
    "import seaborn as sns\n",
    "sns.set(style=\"white\")\n",
    "sns.set(style=\"whitegrid\", color_codes=True)"
   ]
  },
  {
   "cell_type": "code",
   "execution_count": 4,
   "metadata": {},
   "outputs": [
    {
     "name": "stdout",
     "output_type": "stream",
     "text": [
      "     Data Year - Fiscal  Tobin's Q     EPS  Liquidity  Profitability  \\\n",
      "0                  2007      6.650  -0.360     -1.350        -20.950   \n",
      "1                  2009      0.825  -4.834      0.245         -1.853   \n",
      "2                  2008      5.020  -0.056      0.041        -14.427   \n",
      "3                  2008      0.823  -0.375      0.073         -1.658   \n",
      "4                  2008      2.664 -10.544     -0.416         -1.776   \n",
      "..                  ...        ...     ...        ...            ...   \n",
      "190                2012      1.676  -5.622     -1.315         -1.358   \n",
      "191                2007      1.460   0.010     -0.400        -21.900   \n",
      "192                2007      1.114  -0.337     -0.143         -0.353   \n",
      "193                2007      0.930  -8.530      0.000         -0.070   \n",
      "194                2008      1.510  -0.043      0.252         -8.346   \n",
      "\n",
      "     Productivity  Leverage Ratio  Asset Turnover  Operational Margin  \\\n",
      "0          -0.160          -1.160           0.630              -0.260   \n",
      "1          -0.089           1.644           0.510              -0.174   \n",
      "2          -2.367           0.190           0.506              -4.676   \n",
      "3          -0.209           1.869           0.231              -0.902   \n",
      "4           0.178          -1.585           1.133               0.157   \n",
      "..            ...             ...             ...                 ...   \n",
      "190         0.027          -2.091           0.605               0.044   \n",
      "191         0.050           4.640           0.080               0.630   \n",
      "192        -0.054          10.174           1.371              -0.039   \n",
      "193        -0.040           2.970           0.380              -0.100   \n",
      "194        -0.601           0.286           0.007             -80.732   \n",
      "\n",
      "     Return on Equity  Market Book Ratio  Assets Growth  Sales Growth  \\\n",
      "0              -0.650             -1.470         -0.036        -0.296   \n",
      "1             -74.363              3.072         -0.542        -0.827   \n",
      "2              -0.626           2801.400         -0.141        -0.456   \n",
      "3              -5.777             30.435         -0.174        -0.615   \n",
      "4             -22.433             -0.215         -0.767        -0.647   \n",
      "..                ...                ...            ...           ...   \n",
      "190           -62.467             -0.025         -0.288         4.599   \n",
      "191             0.690            275.120         -0.075         1.483   \n",
      "192            -0.536            114.985          1.175         0.281   \n",
      "193            -0.410             35.850          1.221         0.098   \n",
      "194            -0.571            361.447          0.191        -0.192   \n",
      "\n",
      "     Employee Growth  BK  \n",
      "0             -0.786   0  \n",
      "1             -0.681   1  \n",
      "2             -0.600   1  \n",
      "3             -0.585   1  \n",
      "4             -0.471   1  \n",
      "..               ...  ..  \n",
      "190            0.996   1  \n",
      "191            1.000   0  \n",
      "192            1.109   1  \n",
      "193            1.432   0  \n",
      "194            2.333   1  \n",
      "\n",
      "[191 rows x 15 columns]\n",
      "['Data Year - Fiscal', \"Tobin's Q\", 'EPS', 'Liquidity', 'Profitability', 'Productivity', 'Leverage Ratio', 'Asset Turnover', 'Operational Margin', 'Return on Equity', 'Market Book Ratio', 'Assets Growth', 'Sales Growth', 'Employee Growth', 'BK']\n"
     ]
    }
   ],
   "source": [
    "pgf = pd.read_csv(\"Bancarrota.finalll.csv\")\n",
    "data= pgf.dropna()\n",
    "print(data)\n",
    "print(list(data.columns))"
   ]
  },
  {
   "cell_type": "code",
   "execution_count": 5,
   "metadata": {},
   "outputs": [
    {
     "data": {
      "text/plain": [
       "0    120\n",
       "1     71\n",
       "Name: BK, dtype: int64"
      ]
     },
     "execution_count": 5,
     "metadata": {},
     "output_type": "execute_result"
    }
   ],
   "source": [
    "data['BK'].value_counts()"
   ]
  },
  {
   "cell_type": "code",
   "execution_count": 6,
   "metadata": {},
   "outputs": [
    {
     "data": {
      "image/png": "[encoded data removed]",
      "text/plain": [
       "<Figure size 432x288 with 1 Axes>"
      ]
     },
     "metadata": {},
     "output_type": "display_data"
    },
    {
     "data": {
      "text/plain": [
       "<Figure size 432x288 with 0 Axes>"
      ]
     },
     "metadata": {},
     "output_type": "display_data"
    }
   ],
   "source": [
    "sns.countplot(x='BK',data=data, palette = 'hls')\n",
    "plt.show()\n",
    "plt.savefig('count_plot')"
   ]
  },
  {
   "cell_type": "code",
   "execution_count": 7,
   "metadata": {},
   "outputs": [
    {
     "name": "stdout",
     "output_type": "stream",
     "text": [
      "percentage of healthy bank 62.82722513089005\n",
      "percentage of bankruptcy 37.17277486910995\n"
     ]
    }
   ],
   "source": [
    "count_no_sub = len(data[data['BK']==0])\n",
    "count_sub = len(data[data['BK']==1])\n",
    "pct_of_no_sub = count_no_sub/(count_no_sub+count_sub)\n",
    "print(\"percentage of healthy bank\", pct_of_no_sub*100)\n",
    "pct_of_sub = count_sub/(count_no_sub+count_sub)\n",
    "print(\"percentage of bankruptcy\", pct_of_sub*100)"
   ]
  },
  {
   "cell_type": "code",
   "execution_count": 8,
   "metadata": {},
   "outputs": [
    {
     "data": {
      "text/html": [
       "<div>\n",
       "<style scoped>\n",
       "    .dataframe tbody tr th:only-of-type {\n",
       "        vertical-align: middle;\n",
       "    }\n",
       "\n",
       "    .dataframe tbody tr th {\n",
       "        vertical-align: top;\n",
       "    }\n",
       "\n",
       "    .dataframe thead th {\n",
       "        text-align: right;\n",
       "    }\n",
       "</style>\n",
       "<table border=\"1\" class=\"dataframe\">\n",
       "  <thead>\n",
       "    <tr style=\"text-align: right;\">\n",
       "      <th></th>\n",
       "      <th>Data Year - Fiscal</th>\n",
       "      <th>Tobin's Q</th>\n",
       "      <th>EPS</th>\n",
       "      <th>Liquidity</th>\n",
       "      <th>Profitability</th>\n",
       "      <th>Productivity</th>\n",
       "      <th>Leverage Ratio</th>\n",
       "      <th>Asset Turnover</th>\n",
       "      <th>Operational Margin</th>\n",
       "      <th>Return on Equity</th>\n",
       "      <th>Market Book Ratio</th>\n",
       "      <th>Assets Growth</th>\n",
       "      <th>Sales Growth</th>\n",
       "      <th>Employee Growth</th>\n",
       "    </tr>\n",
       "    <tr>\n",
       "      <th>BK</th>\n",
       "      <th></th>\n",
       "      <th></th>\n",
       "      <th></th>\n",
       "      <th></th>\n",
       "      <th></th>\n",
       "      <th></th>\n",
       "      <th></th>\n",
       "      <th></th>\n",
       "      <th></th>\n",
       "      <th></th>\n",
       "      <th></th>\n",
       "      <th></th>\n",
       "      <th></th>\n",
       "      <th></th>\n",
       "    </tr>\n",
       "  </thead>\n",
       "  <tbody>\n",
       "    <tr>\n",
       "      <th>0</th>\n",
       "      <td>2007.0</td>\n",
       "      <td>2.545333</td>\n",
       "      <td>1.884333</td>\n",
       "      <td>0.145250</td>\n",
       "      <td>-0.836250</td>\n",
       "      <td>0.069583</td>\n",
       "      <td>0.647833</td>\n",
       "      <td>1.103917</td>\n",
       "      <td>-0.863417</td>\n",
       "      <td>0.012333</td>\n",
       "      <td>1201.467333</td>\n",
       "      <td>1.571833</td>\n",
       "      <td>0.131683</td>\n",
       "      <td>0.059908</td>\n",
       "    </tr>\n",
       "    <tr>\n",
       "      <th>1</th>\n",
       "      <td>2010.0</td>\n",
       "      <td>1.772423</td>\n",
       "      <td>-2.652958</td>\n",
       "      <td>-0.257085</td>\n",
       "      <td>-2.940634</td>\n",
       "      <td>-0.254437</td>\n",
       "      <td>-3.371113</td>\n",
       "      <td>1.250690</td>\n",
       "      <td>-2.685085</td>\n",
       "      <td>-44.089324</td>\n",
       "      <td>52.931451</td>\n",
       "      <td>-0.142563</td>\n",
       "      <td>0.445592</td>\n",
       "      <td>0.004056</td>\n",
       "    </tr>\n",
       "  </tbody>\n",
       "</table>\n",
       "</div>"
      ],
      "text/plain": [
       "    Data Year - Fiscal  Tobin's Q       EPS  Liquidity  Profitability  \\\n",
       "BK                                                                      \n",
       "0               2007.0   2.545333  1.884333   0.145250      -0.836250   \n",
       "1               2010.0   1.772423 -2.652958  -0.257085      -2.940634   \n",
       "\n",
       "    Productivity  Leverage Ratio  Asset Turnover  Operational Margin  \\\n",
       "BK                                                                     \n",
       "0       0.069583        0.647833        1.103917           -0.863417   \n",
       "1      -0.254437       -3.371113        1.250690           -2.685085   \n",
       "\n",
       "    Return on Equity  Market Book Ratio  Assets Growth  Sales Growth  \\\n",
       "BK                                                                     \n",
       "0           0.012333        1201.467333       1.571833      0.131683   \n",
       "1         -44.089324          52.931451      -0.142563      0.445592   \n",
       "\n",
       "    Employee Growth  \n",
       "BK                   \n",
       "0          0.059908  \n",
       "1          0.004056  "
      ]
     },
     "execution_count": 8,
     "metadata": {},
     "output_type": "execute_result"
    }
   ],
   "source": [
    "data.groupby('BK').mean()"
   ]
  },
  {
   "cell_type": "code",
   "execution_count": 9,
   "metadata": {
    "scrolled": true
   },
   "outputs": [
    {
     "data": {
      "text/html": [
       "<div>\n",
       "<style scoped>\n",
       "    .dataframe tbody tr th:only-of-type {\n",
       "        vertical-align: middle;\n",
       "    }\n",
       "\n",
       "    .dataframe tbody tr th {\n",
       "        vertical-align: top;\n",
       "    }\n",
       "\n",
       "    .dataframe thead th {\n",
       "        text-align: right;\n",
       "    }\n",
       "</style>\n",
       "<table border=\"1\" class=\"dataframe\">\n",
       "  <thead>\n",
       "    <tr style=\"text-align: right;\">\n",
       "      <th></th>\n",
       "      <th>Data Year - Fiscal</th>\n",
       "      <th>Tobin's Q</th>\n",
       "      <th>EPS</th>\n",
       "      <th>Liquidity</th>\n",
       "      <th>Profitability</th>\n",
       "      <th>Productivity</th>\n",
       "      <th>Leverage Ratio</th>\n",
       "      <th>Asset Turnover</th>\n",
       "      <th>Operational Margin</th>\n",
       "      <th>Return on Equity</th>\n",
       "      <th>Market Book Ratio</th>\n",
       "      <th>Assets Growth</th>\n",
       "      <th>Sales Growth</th>\n",
       "      <th>Employee Growth</th>\n",
       "      <th>BK</th>\n",
       "    </tr>\n",
       "  </thead>\n",
       "  <tbody>\n",
       "    <tr>\n",
       "      <th>0</th>\n",
       "      <td>2007</td>\n",
       "      <td>6.650</td>\n",
       "      <td>-0.360</td>\n",
       "      <td>-1.350</td>\n",
       "      <td>-20.950</td>\n",
       "      <td>-0.160</td>\n",
       "      <td>-1.160</td>\n",
       "      <td>0.630</td>\n",
       "      <td>-0.260</td>\n",
       "      <td>-0.650</td>\n",
       "      <td>-1.470</td>\n",
       "      <td>-0.036</td>\n",
       "      <td>-0.296</td>\n",
       "      <td>-0.786</td>\n",
       "      <td>0</td>\n",
       "    </tr>\n",
       "    <tr>\n",
       "      <th>1</th>\n",
       "      <td>2009</td>\n",
       "      <td>0.825</td>\n",
       "      <td>-4.834</td>\n",
       "      <td>0.245</td>\n",
       "      <td>-1.853</td>\n",
       "      <td>-0.089</td>\n",
       "      <td>1.644</td>\n",
       "      <td>0.510</td>\n",
       "      <td>-0.174</td>\n",
       "      <td>-74.363</td>\n",
       "      <td>3.072</td>\n",
       "      <td>-0.542</td>\n",
       "      <td>-0.827</td>\n",
       "      <td>-0.681</td>\n",
       "      <td>1</td>\n",
       "    </tr>\n",
       "    <tr>\n",
       "      <th>2</th>\n",
       "      <td>2008</td>\n",
       "      <td>5.020</td>\n",
       "      <td>-0.056</td>\n",
       "      <td>0.041</td>\n",
       "      <td>-14.427</td>\n",
       "      <td>-2.367</td>\n",
       "      <td>0.190</td>\n",
       "      <td>0.506</td>\n",
       "      <td>-4.676</td>\n",
       "      <td>-0.626</td>\n",
       "      <td>2801.400</td>\n",
       "      <td>-0.141</td>\n",
       "      <td>-0.456</td>\n",
       "      <td>-0.600</td>\n",
       "      <td>1</td>\n",
       "    </tr>\n",
       "    <tr>\n",
       "      <th>3</th>\n",
       "      <td>2008</td>\n",
       "      <td>0.823</td>\n",
       "      <td>-0.375</td>\n",
       "      <td>0.073</td>\n",
       "      <td>-1.658</td>\n",
       "      <td>-0.209</td>\n",
       "      <td>1.869</td>\n",
       "      <td>0.231</td>\n",
       "      <td>-0.902</td>\n",
       "      <td>-5.777</td>\n",
       "      <td>30.435</td>\n",
       "      <td>-0.174</td>\n",
       "      <td>-0.615</td>\n",
       "      <td>-0.585</td>\n",
       "      <td>1</td>\n",
       "    </tr>\n",
       "    <tr>\n",
       "      <th>4</th>\n",
       "      <td>2008</td>\n",
       "      <td>2.664</td>\n",
       "      <td>-10.544</td>\n",
       "      <td>-0.416</td>\n",
       "      <td>-1.776</td>\n",
       "      <td>0.178</td>\n",
       "      <td>-1.585</td>\n",
       "      <td>1.133</td>\n",
       "      <td>0.157</td>\n",
       "      <td>-22.433</td>\n",
       "      <td>-0.215</td>\n",
       "      <td>-0.767</td>\n",
       "      <td>-0.647</td>\n",
       "      <td>-0.471</td>\n",
       "      <td>1</td>\n",
       "    </tr>\n",
       "  </tbody>\n",
       "</table>\n",
       "</div>"
      ],
      "text/plain": [
       "   Data Year - Fiscal  Tobin's Q     EPS  Liquidity  Profitability  \\\n",
       "0                2007      6.650  -0.360     -1.350        -20.950   \n",
       "1                2009      0.825  -4.834      0.245         -1.853   \n",
       "2                2008      5.020  -0.056      0.041        -14.427   \n",
       "3                2008      0.823  -0.375      0.073         -1.658   \n",
       "4                2008      2.664 -10.544     -0.416         -1.776   \n",
       "\n",
       "   Productivity  Leverage Ratio  Asset Turnover  Operational Margin  \\\n",
       "0        -0.160          -1.160           0.630              -0.260   \n",
       "1        -0.089           1.644           0.510              -0.174   \n",
       "2        -2.367           0.190           0.506              -4.676   \n",
       "3        -0.209           1.869           0.231              -0.902   \n",
       "4         0.178          -1.585           1.133               0.157   \n",
       "\n",
       "   Return on Equity  Market Book Ratio  Assets Growth  Sales Growth  \\\n",
       "0            -0.650             -1.470         -0.036        -0.296   \n",
       "1           -74.363              3.072         -0.542        -0.827   \n",
       "2            -0.626           2801.400         -0.141        -0.456   \n",
       "3            -5.777             30.435         -0.174        -0.615   \n",
       "4           -22.433             -0.215         -0.767        -0.647   \n",
       "\n",
       "   Employee Growth  BK  \n",
       "0           -0.786   0  \n",
       "1           -0.681   1  \n",
       "2           -0.600   1  \n",
       "3           -0.585   1  \n",
       "4           -0.471   1  "
      ]
     },
     "execution_count": 9,
     "metadata": {},
     "output_type": "execute_result"
    }
   ],
   "source": [
    "train = data.copy()\n",
    "train.head()"
   ]
  },
  {
   "cell_type": "code",
   "execution_count": 9,
   "metadata": {},
   "outputs": [
    {
     "name": "stdout",
     "output_type": "stream",
     "text": [
      "<class 'pandas.core.frame.DataFrame'>\n",
      "Int64Index: 191 entries, 0 to 194\n",
      "Data columns (total 15 columns):\n",
      " #   Column              Non-Null Count  Dtype  \n",
      "---  ------              --------------  -----  \n",
      " 0   Data Year - Fiscal  191 non-null    int64  \n",
      " 1   Tobin's Q           191 non-null    float64\n",
      " 2   EPS                 191 non-null    float64\n",
      " 3   Liquidity           191 non-null    float64\n",
      " 4   Profitability       191 non-null    float64\n",
      " 5   Productivity        191 non-null    float64\n",
      " 6   Leverage Ratio      191 non-null    float64\n",
      " 7   Asset Turnover      191 non-null    float64\n",
      " 8   Operational Margin  191 non-null    float64\n",
      " 9   Return on Equity    191 non-null    float64\n",
      " 10  Market Book Ratio   191 non-null    float64\n",
      " 11  Assets Growth       191 non-null    float64\n",
      " 12  Sales Growth        191 non-null    float64\n",
      " 13  Employee Growth     191 non-null    float64\n",
      " 14  BK                  191 non-null    int64  \n",
      "dtypes: float64(13), int64(2)\n",
      "memory usage: 23.9 KB\n"
     ]
    }
   ],
   "source": [
    "train.info()"
   ]
  },
  {
   "cell_type": "code",
   "execution_count": 25,
   "metadata": {},
   "outputs": [],
   "source": [
    "from sklearn.model_selection import train_test_split\n",
    "X_train, X_test, y_train, y_test = train_test_split(train.iloc[:,:14], \n",
    "                                                    train.iloc[:,14] ,test_size=0.20, \n",
    "                                                    shuffle=True)"
   ]
  },
  {
   "cell_type": "code",
   "execution_count": 26,
   "metadata": {},
   "outputs": [
    {
     "name": "stderr",
     "output_type": "stream",
     "text": [
      "C:\\Users\\Stefanny\\anaconda3\\lib\\site-packages\\sklearn\\linear_model\\_logistic.py:814: ConvergenceWarning: lbfgs failed to converge (status=1):\n",
      "STOP: TOTAL NO. of ITERATIONS REACHED LIMIT.\n",
      "\n",
      "Increase the number of iterations (max_iter) or scale the data as shown in:\n",
      "    https://scikit-learn.org/stable/modules/preprocessing.html\n",
      "Please also refer to the documentation for alternative solver options:\n",
      "    https://scikit-learn.org/stable/modules/linear_model.html#logistic-regression\n",
      "  n_iter_i = _check_optimize_result(\n"
     ]
    }
   ],
   "source": [
    "from sklearn.linear_model import LogisticRegression\n",
    "logmodel = LogisticRegression()\n",
    "logmodel.fit(X_train,y_train)\n",
    "predictions = logmodel.predict(X_test)"
   ]
  },
  {
   "cell_type": "code",
   "execution_count": 27,
   "metadata": {},
   "outputs": [
    {
     "name": "stdout",
     "output_type": "stream",
     "text": [
      "              precision    recall  f1-score   support\n",
      "\n",
      "           0       0.85      0.92      0.88        24\n",
      "           1       0.85      0.73      0.79        15\n",
      "\n",
      "    accuracy                           0.85        39\n",
      "   macro avg       0.85      0.82      0.83        39\n",
      "weighted avg       0.85      0.85      0.84        39\n",
      "\n"
     ]
    }
   ],
   "source": [
    "print(classification_report(y_test,predictions))"
   ]
  },
  {
   "cell_type": "code",
   "execution_count": 28,
   "metadata": {},
   "outputs": [
    {
     "data": {
      "image/png": "[encoded data removed]",
      "text/plain": [
       "<Figure size 432x288 with 2 Axes>"
      ]
     },
     "metadata": {},
     "output_type": "display_data"
    }
   ],
   "source": [
    "import itertools\n",
    "cm = confusion_matrix(y_test, predictions)\n",
    "plt.imshow(cm, cmap=plt.cm.Reds, interpolation='nearest')\n",
    "plt.colorbar()\n",
    "plt.title('Matriz de Confusión')\n",
    "plt.xlabel('Predicción')\n",
    "plt.ylabel('Real')\n",
    "thresh = cm.max() / 2.\n",
    "for i, j in itertools.product(range(cm.shape[0]), range(cm.shape[1])):\n",
    "    plt.text(j, i, format(cm[i, j], 'd'),\n",
    "             horizontalalignment='center')\n",
    "plt.show()"
   ]
  },
  {
   "cell_type": "code",
   "execution_count": null,
   "metadata": {},
   "outputs": [],
   "source": []
  }
 ],
 "metadata": {
  "kernelspec": {
   "display_name": "Python 3",
   "language": "python",
   "name": "python3"
  },
  "language_info": {
   "codemirror_mode": {
    "name": "ipython",
    "version": 3
   },
   "file_extension": ".py",
   "mimetype": "text/x-python",
   "name": "python",
   "nbconvert_exporter": "python",
   "pygments_lexer": "ipython3",
   "version": "3.8.5"
  }
 },
 "nbformat": 4,
 "nbformat_minor": 4
}
